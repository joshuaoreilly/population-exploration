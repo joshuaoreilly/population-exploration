{
 "cells": [
  {
   "cell_type": "code",
   "execution_count": null,
   "id": "13ad579b-b5e3-4976-8f87-2fa59caa004f",
   "metadata": {
    "tags": []
   },
   "outputs": [],
   "source": [
    "import pandas as pd\n",
    "import os\n",
    "import glob"
   ]
  },
  {
   "cell_type": "markdown",
   "id": "458a2bbb-f209-4d8d-a12c-e468cd4951db",
   "metadata": {},
   "source": [
    "# How Big is Canada, Really?\n",
    "\n",
    "Canada is the second largest country in the world by area, but most of it is virtually uninhabited. In 2016, 66% of the Canadian population lived within 100km of the US border [source](https://www150.statcan.gc.ca/n1/daily-quotidien/170208/dq170208a-eng.htm).\n",
    "I've been curious for a long while now, how big is Canada really, if we only include area that has a certain population density or higher?\n",
    "\n",
    "A naive approach would to go to every country's own statistics/census website, wrestle with their chosen data accessing and formatting patterns.\n",
    "A slightly smarter approach is to let someone else do it for us, and use their results.\n",
    "Luckily, the [Socioeconomic Data and Applications Center (sedac)](https://sedac.ciesin.columbia.edu/data/collection/gpw-v4) has done this since 1995.\n",
    "\n",
    "I originally downloaded their Population Density dataset v4.11, which contains ASCII and TIFF files of pixel-level (up to a resolution of 30 arc-second) data.\n",
    "Unfortunately, I couldn't think of a convenient way of figuring out which pixels belong to each country.\n",
    "A much easier approach is to use the Administrative Unit Center Points with Population Estimates dataset, which gives, per administrative unit in a given country, both its population and area, which makes getting the density easy as pie.\n",
    "I'm not sure if there's some resolution lost by solving this way, since a hypothetically gigantic admin unit could have everyone concentrated in a single square kilometer, and we'd never know.\n",
    "Something to look out for when we start wrangling the data.\n",
    "\n",
    "## Step 1: Download Data\n",
    "\n",
    "I went over the the link above (or [here](https://sedac.ciesin.columbia.edu/data/collection/gpw-v4), same link), create an account, selected Global/Regional as the Geography, Comma Separated Value as the file format, and then made a decision: either\n",
    "\n",
    "1. Tick the Global box, which contains a single CSV for the rest of the world minus the US, then four separate CSV for the latter, or\n",
    "2. Tick the rest of the boxes, which will split the CSV files for the rest of the world into continents (with four separate CSV files for the US again)\n",
    "\n",
    "I figure this hinges on how much RAM these files would occupy, and whether I wanted to parallelize processing.\n",
    "\n",
    "The single global CSV is 3.1GB, while the CSV files for subsections of the US are up to 2.7GB.\n",
    "The files for continents are all under 1.5GB. According to [Jeff](https://stackoverflow.com/questions/25962114/how-do-i-read-a-large-csv-file-with-pandas), it takes about double the size of the file in RAM to open it up; since I won't be doing much more than removing unecessary columns, it's relatively affordable.\n",
    "\n",
    "Since I'm lazy and have my fingers crossed this'll run relatively quickly given how simple what I'm doing will be, I won't bother parallelizing either.\n",
    "\n",
    "So Global download only it is! I also downloaded the documentation, since it describes the column titles used below.\n",
    "\n",
    "## Step 2: Load, Trim, Permute, and Save\n",
    "\n",
    "Next step is pretty straightforward; load each CSV, remove all columns but the country, density, and area (I'll keep population too for futzing around later), and save it all to a CSV for probably faster loading if I ever want to open these again."
   ]
  },
  {
   "cell_type": "code",
   "execution_count": null,
   "id": "b199e84c-4f21-4c15-b9cc-49163287107b",
   "metadata": {
    "tags": []
   },
   "outputs": [],
   "source": [
    "curr_dir = os.getcwd()\n",
    "files = glob.glob(curr_dir + '/data/unprocessed/*.csv')\n",
    "combined_csv = pd.DataFrame()\n",
    "\n",
    "for file in files:\n",
    "    df = pd.read_csv(file)\n",
    "    df = df[['COUNTRYNM', 'LAND_A_KM', 'UN_2020_E', 'UN_2020_DS']]\n",
    "    combined_csv = pd.concat([combined_csv, df], ignore_index=True)\n",
    "\n",
    "combined_csv.to_csv(curr_dir + '/data/processed/data.csv', index=False) # creative naming, I know"
   ]
  },
  {
   "cell_type": "markdown",
   "id": "f12c9a44-170a-4259-bf2e-b8eaa9021dde",
   "metadata": {},
   "source": [
    "That trims our CSV file down to a much more manageable 700MB.\n",
    "Let's load it back up and make sure everything is in the right ballpark."
   ]
  },
  {
   "cell_type": "code",
   "execution_count": null,
   "id": "3ea003fb-647c-436e-82ea-08b9a1beabd1",
   "metadata": {
    "tags": []
   },
   "outputs": [],
   "source": [
    "processed_dir = curr_dir + '/data/processed/data.csv'\n",
    "world = pd.read_csv(processed_dir)\n",
    "\n",
    "canada = world.loc[world['COUNTRYNM'] == 'Canada']\n",
    "print(\"Some basic stats to make sure we're in the right ballbark:\\n\" + canada[['LAND_A_KM', 'UN_2020_E']].sum().to_string())"
   ]
  },
  {
   "cell_type": "code",
   "execution_count": null,
   "id": "d1780e22-89b8-411a-927d-84de38b5864b",
   "metadata": {
    "tags": []
   },
   "outputs": [],
   "source": [
    "world.nlargest(10, 'LAND_A_KM')"
   ]
  },
  {
   "cell_type": "markdown",
   "id": "74d2a282-28f8-44d8-9554-094a3bbc2295",
   "metadata": {},
   "source": [
    "Population of 37 million and land area of 9 million? Seems about right.\n",
    "\n",
    "Unfortunately, those administrative units are absolutely massive.\n",
    "The Canadian one isn't so problematic, since the population is zero, and there's no way to distribute zero people that will influence the density of any square kilimeter of land within it.\n",
    "\n",
    "The others are more problematic.\n",
    "The fourth largest, for example, contains 1.6 million people, but with an average density of 3.3 people per square kilometer, if our threshold were set to, for example, the average population density of the world (about [50/sqkm](https://en.wikipedia.org/wiki/Population_density)), then the entire area would be ignored.\n",
    "Not much I can think about off the top of my head to fix this, so we'll just have to keep it in mind when looking at the results.\n",
    "\n",
    "## Step 3: How Dense is Dense Enough?\n",
    "\n",
    "What density is reasonable to consider an administrative unit sufficiently populated to garner interest?\n",
    "There's a few approaches we can take.\n",
    "\n",
    "We can trim all units with a density below the global average of 50 people per square kilometer above; this'll hurt Canada's area quite a bit, but that's what we're here for.\n",
    "\n",
    "We can also trim all units with a density below the average density in north-american farmland. [Statistics Canada](https://www150.statcan.gc.ca/n1/pub/95-640-x/2011001/p1/p1-01-eng.htm) lists 160 155 748 acres of farmland in Canada in 2011, or 648 127sqkm. With about [241 500](https://agriculture.canada.ca/en/sector/overview) jobs in primary agriculture, that comes out to 2.68 people per square kilometer, significantly lower than the global average, and a generous threshold to let Canada keep some area in the upcoming smackdown.\n",
    "\n",
    "We can look at the least dense US state and use that as our threshold. Why? No clue, seems like fun. [Wikipedia](https://en.wikipedia.org/wiki/List_of_states_and_territories_of_the_United_States_by_population_density) to the rescue, which reports Alaska as our lucky winner. I was originally going to exclude Alaska, since I figured it would be ridiculously low, but considering the second lowest, Wyoming, has a density of 2.3 people per sqkm, which is about the same as for the average Canadian farm, looks like we're using our friend up north and being even more gentle with Canada's new area.\n",
    "\n",
    "## Step 4: Shrink Canada"
   ]
  }
 ],
 "metadata": {
  "kernelspec": {
   "display_name": "Python 3 (ipykernel)",
   "language": "python",
   "name": "python3"
  },
  "language_info": {
   "codemirror_mode": {
    "name": "ipython",
    "version": 3
   },
   "file_extension": ".py",
   "mimetype": "text/x-python",
   "name": "python",
   "nbconvert_exporter": "python",
   "pygments_lexer": "ipython3",
   "version": "3.8.16"
  }
 },
 "nbformat": 4,
 "nbformat_minor": 5
}
