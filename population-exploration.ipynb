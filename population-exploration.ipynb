{
 "cells": [
  {
   "cell_type": "markdown",
   "id": "458a2bbb-f209-4d8d-a12c-e468cd4951db",
   "metadata": {},
   "source": [
    "# How Big is Canada, Really?\n",
    "\n",
    "Canada is the second largest country in the world by area, but most of it is virtually uninhabited. In 2016, 66% of the Canadian population lived within 100km of the US border [source](https://www150.statcan.gc.ca/n1/daily-quotidien/170208/dq170208a-eng.htm).\n",
    "I've been curious for a long while now, how big is Canada really, if we only include area that has passes a certain population density?\n",
    "\n",
    "A naive approach would to go to every country's own statistics/census website, wrestle with their chosen data accessing and formatting patterns.\n",
    "A slightly smarter approach is to let someone else do it for us, and use their results!\n",
    "The [Socioeconomic Data and Applications Center (sedac)](https://sedac.ciesin.columbia.edu/data/collection/gpw-v4) has done this since 1995.\n",
    "\n",
    "I downloaded their Population Density dataset v4.11, which contains ASCII and TIFF files of pixel-level (up to a resolution of 30 arc-second) data.\n",
    "Unfortunately, I couldn't think of a convenient way of figuring out which pixels belong to each country.\n",
    "A much easier approach is to use the Administrative Unit Center Points with Population Estimates dataset, which gives, per administrative unit in a given country, both its population and area, which makes getting the density easy as pie.\n",
    "I'm not sure if there's some resolution lost by solving this way, since a hypothetically gigantic admin unit could have everyone concentrated in a single square kilometer, and we'd never know.\n",
    "Something to look out for when we start wrangling the data.\n",
    "\n",
    "## Step 1: Download Data\n",
    "\n",
    "I went over the the link above (or [here](https://sedac.ciesin.columbia.edu/data/collection/gpw-v4), same link), create an account, selected Global/Regional as the Geography, Comma Separated Value as the file format, and then made a decision: either\n",
    "\n",
    "1. Tick the Global box, which contains a single CSV for the rest of the world minus the US, then four separate CSV for the latter, or\n",
    "2. Tick the rest of the boxes, which will split the CSV files for the rest of the world into continents (with four separate CSV files for the US again)\n",
    "\n",
    "I figure this hinges on how much RAM these files would occupy, and whether I wanted to parallelize processing.\n",
    "\n",
    "The single global CSV is 3.1GB, while the CSV files for subsections of the US are up to 2.7GB.\n",
    "The files for continents are all under 1.5GB. According to [Jeff](https://stackoverflow.com/questions/25962114/how-do-i-read-a-large-csv-file-with-pandas), it takes about double the size of the file in RAM to open it up; since I won't be doing much more than removing unecessary columns, it's relatively affordable.\n",
    "\n",
    "Since I'm lazy and have my fingers crossed this'll run relatively quickly given how simple what I'm doing will be, I won't bother parallelizing either.\n",
    "\n",
    "So Global download only it is!\n",
    "\n",
    "## Step 2: Load, Trim, Permute, and Save\n",
    "\n",
    "Next step is pretty straightforward; load each CSV, remove all columns but the country, population, and area.\n",
    "Then, get the density of that administrative unit by dividing the population by the area, and finally, save it all to a CSV for probably faster loading if I ever want to open these again."
   ]
  },
  {
   "cell_type": "code",
   "execution_count": null,
   "id": "13ad579b-b5e3-4976-8f87-2fa59caa004f",
   "metadata": {},
   "outputs": [],
   "source": []
  }
 ],
 "metadata": {
  "kernelspec": {
   "display_name": "Python 3 (ipykernel)",
   "language": "python",
   "name": "python3"
  },
  "language_info": {
   "codemirror_mode": {
    "name": "ipython",
    "version": 3
   },
   "file_extension": ".py",
   "mimetype": "text/x-python",
   "name": "python",
   "nbconvert_exporter": "python",
   "pygments_lexer": "ipython3",
   "version": "3.8.16"
  }
 },
 "nbformat": 4,
 "nbformat_minor": 5
}
