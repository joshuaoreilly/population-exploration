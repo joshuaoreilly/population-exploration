{
 "cells": [
  {
   "cell_type": "code",
   "execution_count": null,
   "id": "13ad579b-b5e3-4976-8f87-2fa59caa004f",
   "metadata": {
    "tags": []
   },
   "outputs": [],
   "source": [
    "import pandas as pd\n",
    "import numpy as np\n",
    "import os\n",
    "import glob\n",
    "\n",
    "curr_dir = os.getcwd()"
   ]
  },
  {
   "cell_type": "markdown",
   "id": "458a2bbb-f209-4d8d-a12c-e468cd4951db",
   "metadata": {},
   "source": [
    "# How Big is Canada, Really?\n",
    "\n",
    "Canada is the second largest country in the world by area, but most of it is virtually uninhabited. In 2016, 66% of the Canadian population lived within [100km](https://www150.statcan.gc.ca/n1/daily-quotidien/170208/dq170208a-eng.htm) of the US border.\n",
    "I've been curious for a long while now, how big is Canada really, if we only include area that has a certain population density or higher?\n",
    "\n",
    "A naive approach would to go to every country's own statistics/census website, wrestle with their chosen data accessing and formatting patterns.\n",
    "A slightly smarter approach is to let someone else do it for us, and use their results.\n",
    "Luckily, the [Socioeconomic Data and Applications Center (sedac)](https://sedac.ciesin.columbia.edu/data/collection/gpw-v4) has done this since 1995.\n",
    "\n",
    "I originally downloaded their Population Density dataset v4.11, which contains ASCII and TIFF files of data up to a resolution of 30 arc-second.\n",
    "Unfortunately, I couldn't think of a convenient way of figuring out which pixels belong to each country.\n",
    "A much easier approach is to use the Administrative Unit Center Points with Population Estimates dataset, which gives, per administrative unit in a given country, its population, area, density, and more, which makes our job easy as pie.\n",
    "There's definitely some resolution lost by solving this way, since a gigantic admin unit could hypothetically have everyone concentrated in a single square kilometer, and we'd never know.\n",
    "Something to look out for when we start wrangling the data.\n",
    "\n",
    "## Step 1: Download Data\n",
    "\n",
    "I went over the the link above (or [here](https://sedac.ciesin.columbia.edu/data/collection/gpw-v4), same link), created an account, selected Global/Regional as the Geography, Comma Separated Value as the file format, and then ticked the Global box, which contains a single CSV for the world minus the US, then four separate CSV for the latter. While ticking the per-continent boxes was an option, I'm here to make unbased claims against Mapleland, not parallelize my work or be considerate of the hardware of others. According to [Jeff](https://stackoverflow.com/questions/25962114/how-do-i-read-a-large-csv-file-with-pandas), it takes about double the size of a CSV file to open it in Pandas; since the largest file is just over 3GB, I didn't think it would cause any issues.\n",
    "\n",
    "I also downloaded the documentation, since it describes the column titles used below.\n",
    "\n",
    "## Step 2: Load, Trim, Permute, and Save\n",
    "\n",
    "Next step was pretty straightforward; load each CSV, remove all columns but the country, density, and area (I kept population too for maybe futzing around later), and save it all to a CSV for probably faster loading if I ever want to open these again."
   ]
  },
  {
   "cell_type": "code",
   "execution_count": null,
   "id": "b199e84c-4f21-4c15-b9cc-49163287107b",
   "metadata": {
    "tags": []
   },
   "outputs": [],
   "source": [
    "files = glob.glob(curr_dir + '/data/unprocessed/*.csv')\n",
    "combined_csv = pd.DataFrame()\n",
    "\n",
    "for file in files:\n",
    "    df = pd.read_csv(file)\n",
    "    df = df[['COUNTRYNM', 'LAND_A_KM', 'UN_2020_E', 'UN_2020_DS']]\n",
    "    combined_csv = pd.concat([combined_csv, df], ignore_index=True)\n",
    "\n",
    "combined_csv.to_csv(curr_dir + '/data/processed/data.csv', index=False) # creative naming, I know"
   ]
  },
  {
   "cell_type": "markdown",
   "id": "f12c9a44-170a-4259-bf2e-b8eaa9021dde",
   "metadata": {},
   "source": [
    "That trimmed the CSV file down to a much more manageable 700MB.\n",
    "Let's load it back up and make sure we're in the right universe."
   ]
  },
  {
   "cell_type": "code",
   "execution_count": null,
   "id": "3ea003fb-647c-436e-82ea-08b9a1beabd1",
   "metadata": {
    "tags": []
   },
   "outputs": [],
   "source": [
    "processed_dir = curr_dir + '/data/processed/data.csv'\n",
    "world = pd.read_csv(processed_dir)\n",
    "\n",
    "canada = world.loc[world['COUNTRYNM'] == 'Canada']\n",
    "print(\"Some basic stats to make sure we're in the right ballbark:\\n\" + canada[['LAND_A_KM', 'UN_2020_E']].sum().astype(int).to_string())\n",
    "print(\"Largest countries by area:\")\n",
    "display(world.nlargest(10, 'LAND_A_KM'))"
   ]
  },
  {
   "cell_type": "markdown",
   "id": "74d2a282-28f8-44d8-9554-094a3bbc2295",
   "metadata": {},
   "source": [
    "Population of 37 million and land area of 9 million? Seems about right.\n",
    "\n",
    "Unfortunately, those administrative units are absolutely massive.\n",
    "The Canadian one isn't too much trouble, since the population is zero, and there's no way to distribute zero people that will influence the density of any square kilimeter of land within it.\n",
    "\n",
    "The others are more problematic.\n",
    "The fourth largest, for example, contains 1.6 million people, but with an average density of 3.3 people per square kilometer, if our threshold were set to, for example, the average population density of the world (about [50/sqkm](https://en.wikipedia.org/wiki/Population_density)), then the entire area would be ignored.\n",
    "Not much I can think about off the top of my head to fix this, so we'll just have to keep it in mind when looking at the results.\n",
    "\n",
    "![World map with large administrative units visible](img/population_density_shrunk.jpg)\n",
    "\n",
    "Smaller version of the 17GB TIFF from the Population Density dataset v4.11, with some very large administrative units visible.\n",
    "\n",
    "## Step 3: How Dense is Dense Enough?\n",
    "\n",
    "What density is enough to reasonably consider an administrative unit populated?\n",
    "There's a few approaches we can take.\n",
    "\n",
    "We can trim all units with a density below the global average of 50 people per square kilometer above; this'll hurt Canada's area quite a bit, but that's what we're here for.\n",
    "\n",
    "We can also trim all units with a density below the average density in Canadian farmland. [Statistics Canada](https://www150.statcan.gc.ca/n1/pub/95-640-x/2011001/p1/p1-01-eng.htm) lists 160 155 748 acres of farmland in Canada in 2011, or 648 127sqkm. With about [241 500](https://agriculture.canada.ca/en/sector/overview) jobs in primary agriculture, that comes out to 2.68 people per square kilometer, significantly lower than the global average, and a generous threshold to let Canada keep some area in the upcoming smackdown.\n",
    "\n",
    "We can look at the least dense US state and use that as our threshold. Why? No clue, seems like fun. [Wikipedia](https://en.wikipedia.org/wiki/List_of_states_and_territories_of_the_United_States_by_population_density) to the rescue, which reports Alaska as our lucky winner with an average population density of 0.5 people per sqkm. I was originally going to exclude Alaska, since I figured it would be ridiculously low, but considering the second lowest, Wyoming, has a density of 2.3 people per sqkm, which is about the same as for the average Canadian farm, looks like we're using our friend up north and being even more gentle with Canada's new area.\n",
    "\n",
    "## Step 4: Shrink Canada"
   ]
  },
  {
   "cell_type": "code",
   "execution_count": null,
   "id": "ddf7bf08-9de6-4709-a392-770862451824",
   "metadata": {
    "tags": []
   },
   "outputs": [],
   "source": [
    "world_thresh_alaska = world.loc[world['UN_2020_DS'] >= 0.5].drop('UN_2020_DS', axis=1).groupby('COUNTRYNM').sum().astype(int)\n",
    "world_thresh_farming = world.loc[world['UN_2020_DS'] >= 2.7].drop('UN_2020_DS', axis=1).groupby('COUNTRYNM').sum().astype(int)\n",
    "world_thresh_average = world.loc[world['UN_2020_DS'] >= 50].drop('UN_2020_DS', axis=1).groupby('COUNTRYNM').sum().astype(int)\n",
    "world_unthresh = world.drop('UN_2020_DS', axis=1).groupby('COUNTRYNM').sum().astype(int)\n",
    "\n",
    "thresholded_areas = pd.concat([world_unthresh['LAND_A_KM'],\n",
    "                               world_thresh_alaska['LAND_A_KM'],\n",
    "                               world_thresh_farming['LAND_A_KM'],\n",
    "                               world_thresh_average['LAND_A_KM']],\n",
    "                              axis=1,\n",
    "                              keys = ['True Area', 'Alaska Threshold', 'Farming Threshold', 'Average Threshold'])\n",
    "\n",
    "thresholded_populations = pd.concat([world_unthresh['UN_2020_E'],\n",
    "                                     world_thresh_alaska['UN_2020_E'],\n",
    "                                     world_thresh_farming['UN_2020_E'],\n",
    "                                     world_thresh_average['UN_2020_E']],\n",
    "                                    axis=1,\n",
    "                                    keys = ['True Population', 'Alaska Threshold', 'Farming Threshold', 'Average Threshold'])\n",
    "display(thresholded_areas)"
   ]
  },
  {
   "cell_type": "markdown",
   "id": "d2f1d4a8-76f9-43a1-a21b-4a7ff380a77a",
   "metadata": {},
   "source": [
    "While I could print out the entire Dataframe, it's pretty long and would cause some serious scrolling cramps, so I've hidden it down at the bottom.\n",
    "\n",
    "Coutries who do not at all meet the threshold for any of their administrative units will return a NaN value, as demonstrated below for Belize, which has densities above that of both the Alaska and Farming thresholds, but not the world average one of 50. We'll fill those up with zeros instead."
   ]
  },
  {
   "cell_type": "code",
   "execution_count": null,
   "id": "3b3cbd56-a5cb-49ae-97fc-de74f0e376de",
   "metadata": {
    "tags": []
   },
   "outputs": [],
   "source": [
    "display(thresholded_areas[thresholded_areas['Average Threshold'].isnull()])\n",
    "display(world.loc[world['COUNTRYNM'] == 'Belize'])"
   ]
  },
  {
   "cell_type": "code",
   "execution_count": null,
   "id": "58f51bda-741f-4ffa-a3d5-069c47dfdb6a",
   "metadata": {
    "tags": []
   },
   "outputs": [],
   "source": [
    "# needed np.Nan instead of 'NaN', as per https://stackoverflow.com/questions/48956789/converting-nan-in-dataframe-to-zero\n",
    "thresholded_areas = thresholded_areas.replace(np.NaN, 0).astype(int)\n",
    "thresholded_populations = thresholded_populations.replace(np.NaN, 0).astype(int)"
   ]
  },
  {
   "cell_type": "markdown",
   "id": "00527dbd-090a-4b3a-9ae6-06304d42f9a3",
   "metadata": {},
   "source": [
    "## Step 5: Get Our Bearings\n",
    "\n",
    "The entry I'm really here for:"
   ]
  },
  {
   "cell_type": "code",
   "execution_count": null,
   "id": "6ac591e4-cc0e-45f3-a058-202d3e761b0f",
   "metadata": {
    "tags": []
   },
   "outputs": [],
   "source": [
    "thresholded_areas.loc['Canada']"
   ]
  },
  {
   "cell_type": "markdown",
   "id": "defb279e-c7d6-4c15-bba9-996e2be74c68",
   "metadata": {},
   "source": [
    "Alaska's population of 0.5 people per square kilometer is so low that, were it a country/dependency, it would be the [fourth least dense](https://en.wikipedia.org/wiki/List_of_countries_and_dependencies_by_population_density) in the world after Greenland, Svalbard and Jan Mayen, and the Falkland Islands, and four times less dense than the next least dense, Mongolia. Even with such a generous threshold, Canada's area plummets by a factor of 10 down to 700 000 square kilometers; we're left with the provinces of [Alberta and Nova Scotia](https://en.wikipedia.org/wiki/Provinces_and_territories_of_Canada), or equivalently, [Texas or half of Alaska](https://en.wikipedia.org/wiki/List_of_U.S._states_and_territories_by_area)!\n",
    "\n",
    "If we're slightly less polite, we can use a density threshold which matches that of a typically Canadian farm, Canada's area cuts in half again down to 320 000 square kilometers, so less than Newfoundland and Labrador, or New Mexico.\n",
    "\n",
    "Finally, with a density threshold equal to the average population density over the entire landmass of the world, Canada's area disappears into thin air at 35 000 square kilometers. We have become the Netherlands. Or the New York metropolitan area three times (but with about half the population!)\n",
    "\n",
    "Pitting Canada against itself and other un-harried nations does us little good though if they also shed some area, so lets see if Canada loses its number 2 spot when thresholded.\n",
    "\n",
    "## Step 6: Bully Canada\n",
    "\n",
    "First, lets find out how many countries are larger than Canada when using our very generous Alaskan threshold."
   ]
  },
  {
   "cell_type": "code",
   "execution_count": null,
   "id": "e259e2f3-a5c2-471f-a696-f4c7981f3c8a",
   "metadata": {
    "tags": []
   },
   "outputs": [],
   "source": [
    "larger_than_canada_alaska = thresholded_areas.loc[thresholded_areas['Alaska Threshold'] >= thresholded_areas.loc['Canada']['Alaska Threshold']].sort_values('Alaska Threshold', ascending=False)\n",
    "print(\"Number of countries larger than Canada: \", larger_than_canada_alaska.shape[0] - 1)\n",
    "display(larger_than_canada_alaska)"
   ]
  },
  {
   "cell_type": "markdown",
   "id": "6b18e9d3-8ae2-47a9-8a60-c857e1380e49",
   "metadata": {},
   "source": [
    "Such a small threshold, and yet here we are, already off the podium and forgotten. Have you ever thought to yourself \"Wow, Zambia is such a large country\"? Nope, neither have I! If we look at countries by true area, we're now the 40th largest. Lets make it worse."
   ]
  },
  {
   "cell_type": "code",
   "execution_count": null,
   "id": "05e16671-caa8-4796-921a-e01909a76945",
   "metadata": {
    "tags": []
   },
   "outputs": [],
   "source": [
    "larger_than_canada_farming = thresholded_areas.loc[thresholded_areas['Farming Threshold'] >= thresholded_areas.loc['Canada']['Farming Threshold']].sort_values('Farming Threshold', ascending=False)\n",
    "print(\"Number of countries larger than Canada: \", larger_than_canada_farming.shape[0] - 1)\n",
    "display(larger_than_canada_farming)"
   ]
  },
  {
   "cell_type": "markdown",
   "id": "d5d7990f-cf5e-4008-9239-86b8021182b5",
   "metadata": {},
   "source": [
    "Woohoo, even smaller! According to Google Maps, you can drive across Germany (from Flensburg to Garmisch-Partenkirchen) in about 11 hours. When I moved from Winnipeg to Ottawa for university, it took over twice that. We're now a little smaller than Germany as well, the 63rd largest country in the (unthresholded world). Finally, the death blow:"
   ]
  },
  {
   "cell_type": "code",
   "execution_count": null,
   "id": "b22ada9e-5569-4092-a558-7e171c90f939",
   "metadata": {
    "tags": []
   },
   "outputs": [],
   "source": [
    "larger_than_canada_average = thresholded_areas.loc[thresholded_areas['Average Threshold'] >= thresholded_areas.loc['Canada']['Average Threshold']].sort_values('Average Threshold', ascending=False)\n",
    "print(\"Number of countries larger than Canada: \", larger_than_canada_average.shape[0] - 1)\n",
    "print(\"Number of countries in total: \", thresholded_areas.shape[0])\n",
    "display(larger_than_canada_average)"
   ]
  },
  {
   "cell_type": "markdown",
   "id": "e86fe0b1-32a4-415e-9d31-90e9676bb3a7",
   "metadata": {},
   "source": [
    "Excellent, we've surpassed the default number of rows that show in JupyterLab. We're now smaller than [Switzerland](https://en.wikipedia.org/wiki/Switzerland) at its true size, and sandwiched between Guinea-Bissau and Moldova to take the 139th (non-thresholded) largest country award.\n",
    "\n",
    "![Map from freeworldmaps.net](img/switzerland.jpg)\n",
    "\n",
    "It's so tiny you absolutely need a giant red circle to help you find it. Want to point to Guinea-Bissau on a map? You can't, because your finger is too big and will crush it, as well as some of the surrounding countries.\n",
    "\n",
    "![Guinea Bissau](img/guineabissau.jpg)\n",
    "\n",
    "Observe the smolness of the arrow. That might as well be pointing to Canada.\n",
    "\n",
    "![Pathetic meme from Simpsons](img/pathetic.jpg)\n",
    "\n",
    "I put the full table at the bottom of this document for your perusing pleasure."
   ]
  },
  {
   "cell_type": "markdown",
   "id": "9305b0c9-c07c-48a2-95e7-45124eef7d6c",
   "metadata": {},
   "source": [
    "## Step 7: Conclusions\n",
    "\n",
    "What have we learned? Probably nothing, since as noted way above, many administrative units are absolutely massive with not-insignificant populations that could hypothetically contribute much needed square kilometers. If we're willing to forego any sense of critical thinking, we can safely conclude that Canada is actually a tiny country, at best the 30th largest, at worst a third of the way down the chain."
   ]
  },
  {
   "cell_type": "markdown",
   "id": "93d2d9af-6410-44c5-82c1-cfe288b3adbf",
   "metadata": {},
   "source": [
    "## Appendices: Full Dataframe\n",
    "\n",
    "Here's the full dataframe containing areas at the various thresholds for all countries"
   ]
  },
  {
   "cell_type": "code",
   "execution_count": null,
   "id": "b1b185e3-2bb2-4c67-8f18-14e75a90db8a",
   "metadata": {
    "tags": []
   },
   "outputs": [],
   "source": [
    "print(\"Full dataframe:\")\n",
    "with pd.option_context('display.max_rows', None):\n",
    "    display(thresholded_areas)\n",
    "\n",
    "print(\"Countries larger than Canada using average threshold:\")\n",
    "with pd.option_context('display.max_rows', None):\n",
    "    display(larger_than_canada_average)"
   ]
  },
  {
   "cell_type": "code",
   "execution_count": null,
   "id": "05042909-8723-4300-be3f-05dfd51d55a1",
   "metadata": {},
   "outputs": [],
   "source": []
  }
 ],
 "metadata": {
  "kernelspec": {
   "display_name": "Python 3 (ipykernel)",
   "language": "python",
   "name": "python3"
  },
  "language_info": {
   "codemirror_mode": {
    "name": "ipython",
    "version": 3
   },
   "file_extension": ".py",
   "mimetype": "text/x-python",
   "name": "python",
   "nbconvert_exporter": "python",
   "pygments_lexer": "ipython3",
   "version": "3.8.16"
  }
 },
 "nbformat": 4,
 "nbformat_minor": 5
}
